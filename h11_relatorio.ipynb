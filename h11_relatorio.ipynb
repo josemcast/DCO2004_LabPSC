{
 "cells": [
  {
   "cell_type": "markdown",
   "metadata": {},
   "source": [
    "# Descrição dos entregáveis do Hands-on 11\n",
    "\n",
    "\n",
    "### D01:  Criar e incluir no seu repositório um arquivo chamado **Entrega_h11.ipynb** com código e texto com o seguinte conteúdo:\n",
    "\n",
    "Faça um loopback de tranmissão e recepção OFDM similar a **Prática 3** do [Hands-on 11: Modulação OFDM (ortogonalidade, transmissão e recepção, desempenho em canal AWGN)](http://nbviewer.jupyter.org/github/vicentesousa/DCO2004_LabPSC/blob/master/h11.ipynb) em Python com as seguintes mudanças:\n",
    "\n",
    "1. Eb/No como variável de entrada. Variar a Eb/No de 0 a 14 dB e calcular a variância do ruído, considerando modulação 16-QAM;\n",
    "2. Usar as funções ifft e fft para multiplexar (Tx) e demultiplexar (Rx);\n",
    "3. Fazer o gráfico da BER vs Eb/No para com OFDM e, no mesmo gráfico, o gráfico da Pe vs Eb/No (fórmula teórica) da modulação 16-QAM sem OFDM.\n",
    "\n",
    "Comite o arquivo **Entrega_h11.ipynb** com os códigos rodados e com os gráficos aparecendo. Se necessário, insira comentários sobre o código. As figuras devem ser resultado da execução do código e não figuras inseridas em formato png ou jpg. \n",
    "\n",
    "\n",
    "## Data da entrega: 04/12/2017\n"
   ]
  }
 ],
 "metadata": {
  "kernelspec": {
   "display_name": "Python 3",
   "language": "python",
   "name": "python3"
  },
  "language_info": {
   "codemirror_mode": {
    "name": "ipython",
    "version": 3
   },
   "file_extension": ".py",
   "mimetype": "text/x-python",
   "name": "python",
   "nbconvert_exporter": "python",
   "pygments_lexer": "ipython3",
   "version": "3.4.5"
  },
  "latex_envs": {
   "LaTeX_envs_menu_present": true,
   "bibliofile": "biblio.bib",
   "cite_by": "apalike",
   "current_citInitial": 1,
   "eqLabelWithNumbers": true,
   "eqNumInitial": 1,
   "hotkeys": {
    "equation": "Ctrl-E",
    "itemize": "Ctrl-I"
   },
   "labels_anchors": false,
   "latex_user_defs": false,
   "report_style_numbering": false,
   "user_envs_cfg": false
  }
 },
 "nbformat": 4,
 "nbformat_minor": 2
}
