{
 "cells": [
  {
   "cell_type": "markdown",
   "metadata": {},
   "source": [
    "# Resolução da prova escrita da disciplina DCO2004\n",
    "\n",
    "### Questão:\n",
    "Considerando o **Hands-On 09: Modulação digital(modulação, demodulação e desempenho em ruído AWGN) - Parte 01**, qual a probabilidade de erro para um sistema digital binário com sinais antipodais e:\n",
    "- Prova do tipo 1: Eb/No = 17?\n",
    "- Prova do tipo 2: Eb/No = 15?\n",
    "- Prova do tipo 3: Eb/No = 10?\n",
    "- Prova do tipo 4: Eb/No = 5?"
   ]
  },
  {
   "cell_type": "code",
   "execution_count": 39,
   "metadata": {},
   "outputs": [
    {
     "name": "stdout",
     "output_type": "stream",
     "text": [
      "Para EbNo = 17\n",
      " Sinais antipodais: P_e = 2.7556e-09\n",
      " Sinais ortogonais: P_e = 1.869e-05\n",
      " Sinais ortogonais: P_e = 6.759e-24 para EbNo = 17dB (não correto)\n",
      "Para EbNo = 15\n",
      " Sinais antipodais: P_e = 2.1602e-08\n",
      " Sinais ortogonais: P_e = 5.3756e-05\n",
      " Sinais ortogonais: P_e = 9.124e-16 para EbNo = 15dB (não correto)\n",
      "Para EbNo = 10\n",
      " Sinais antipodais: P_e = 3.8721e-06\n",
      " Sinais ortogonais: P_e = 0.0007827\n",
      " Sinais ortogonais: P_e = 3.8721e-06 para EbNo = 10dB (não correto)\n",
      "Para EbNo = 5\n",
      " Sinais antipodais: P_e = 0.0007827\n",
      " Sinais ortogonais: P_e = 0.012674\n",
      " Sinais ortogonais: P_e = 0.0059539 para EbNo = 5dB (não correto)\n"
     ]
    }
   ],
   "source": [
    "clc;clear all;close all;\n",
    "vtEbNo = [17 15 10 5];   % Valor da Eb/No em escala linear\n",
    "for is = 1 : length(vtEbNo)\n",
    "    EbNo = vtEbNo(is);\n",
    "    vtTeoErrorAnti = qfunc(sqrt(2*EbNo));                                                      \n",
    "    vtTeoErrorOrto = qfunc(sqrt(EbNo));\n",
    "    % Se considerou o valor em dB e não em escala linear\n",
    "    vtTeoErrorAntiErrado = qfunc(sqrt(2*10^(EbNo/10)));       \n",
    "    disp(['Para EbNo = ' num2str(EbNo)]);\n",
    "    disp([' Sinais antipodais: P_e = ' num2str(vtTeoErrorAnti) ]);\n",
    "    disp([' Sinais ortogonais: P_e = ' num2str(vtTeoErrorOrto)]);\n",
    "    disp([' Sinais ortogonais: P_e = ' num2str(vtTeoErrorAntiErrado) ' para EbNo = ' num2str(EbNo) 'dB (não correto)']);\n",
    "end    "
   ]
  },
  {
   "cell_type": "markdown",
   "metadata": {},
   "source": [
    "### Questão:\n",
    "Considerando a **Prática 1: PDFs e CDFs de VAs clássicas do Hands-On 07**, a duração de chamadas de uma operadora telefônica é uma VA com distribuição exponencial de taxa $\\lambda$ segundos/chamada. Qual a probabilidade de assinantes fazerem uma chamada com mais de $4$ minutos de duração, quando:\n",
    "- Prova do tipo 1: $\\lambda$ = 120?\n",
    "- Prova do tipo 2: $\\lambda$ = 60?\n",
    "- Prova do tipo 3: $\\lambda$ = 30?\n",
    "- Prova do tipo 4: $\\lambda$ = 240?"
   ]
  },
  {
   "cell_type": "code",
   "execution_count": 46,
   "metadata": {},
   "outputs": [
    {
     "name": "stdout",
     "output_type": "stream",
     "text": [
      "Para lambda = 120\n",
      " Probabilidade pela área da PDF = 0.03358 %\n",
      " Probabilidade pela integral da fórmula da PDF = 0.033546 %\n",
      "Para lambda = 60\n",
      " Probabilidade pela área da PDF = 1.8325 %\n",
      " Probabilidade pela integral da fórmula da PDF = 1.8316 %\n",
      "Para lambda = 30\n",
      " Probabilidade pela área da PDF = 13.5369 %\n",
      " Probabilidade pela integral da fórmula da PDF = 13.5335 %\n",
      "Para lambda = 240\n",
      " Probabilidade pela área da PDF = 1.1276e-05 %\n",
      " Probabilidade pela integral da fórmula da PDF = 1.1254e-05 %\n"
     ]
    }
   ],
   "source": [
    "clc;clear all;close all;\n",
    "% Pela PDF\n",
    "vtlambdaseg = [ 120 60 30 240 ]; \n",
    "vtlambda = vtlambdaseg/60;       % Lambda em minutos \n",
    "res = 1e-3;\n",
    "x=4:res:1e5;                            % Eixo x (tão grande quanto queira)\n",
    "for il = 1:length(vtlambda)  \n",
    "    lambda = vtlambda(il);\n",
    "    f=lambda*exp(-lambda*x);          % PDF\n",
    "    % Pelo método discreto da PDF\n",
    "    prob1 = sum(f)*res*100;\n",
    "    % Pela integral\n",
    "    syms xs fs;\n",
    "    fs = lambda*exp(-lambda*xs);\n",
    "    prob2 = ( 1 - eval(int(fs,0,4)) )*100;\n",
    "    disp(['Para lambda = ' num2str(vtlambdaseg(il)) ]);\n",
    "    disp([' Probabilidade pela área da PDF = ' num2str(prob1) ' %']);\n",
    "    disp([' Probabilidade pela integral da fórmula da PDF = ' num2str(prob2) ' %']);\n",
    "end"
   ]
  },
  {
   "cell_type": "markdown",
   "metadata": {},
   "source": [
    "### Questão 3:\n",
    "Considerando a **Prática 2: Recepção AM-DSB (detecção de envoltória) do Hands-On 05**, qual o erro médio quadrático entre a envoltória ideal e a envoltória recuperada quando:\n",
    "- Prova do tipo 1: $\\tau$ = $1,5\\cdot10^{-4}$?\n",
    "- Prova do tipo 2: $\\tau$ = $0,5\\cdot10^{-4}$?\n",
    "- Prova do tipo 3: $\\tau$ = $3,0\\cdot10^{-4}$?\n",
    "- Prova do tipo 4: $\\tau$ = $10^{-3}$?"
   ]
  },
  {
   "cell_type": "code",
   "execution_count": 49,
   "metadata": {},
   "outputs": [
    {
     "name": "stdout",
     "output_type": "stream",
     "text": [
      "Para tau = 0.00015\n",
      " Erro médio quadrático = 0.075284\n",
      "Para tau = 5e-05\n",
      " Erro médio quadrático = 0.28329\n",
      "Para tau = 0.0003\n",
      " Erro médio quadrático = 0.050445\n",
      "Para tau = 0.001\n",
      " Erro médio quadrático = 0.20157\n"
     ]
    }
   ],
   "source": [
    "clc;clear all;close all;\n",
    "vtTau = [1.5e-4 0.5e-4 3e-4 1e-3];            % Constante de tempo do detector de envelope\n",
    "\n",
    "t = [0:999]*1e-6;                             % Definição do vetor tempo\n",
    "Ts = 1e-6;                                    % Definição do período\n",
    "fc = 10000;                                   % Frequência da portadora\n",
    "fm = 1500;                                    % Frequência do sinal\n",
    "Mu = 0.6;                                     % Índice de modulação\n",
    "x_AMo = (1+Mu*cos(2*pi*fm*t)).*cos(2*pi*fc*t);% Onda Modulada AM-DSB\n",
    "% Envelope ideal do AM-DSB\n",
    "x_envIdeal = abs(1+Mu*cos(2*pi*fm*t));\n",
    "% Detector de envelope.\n",
    "x_AM = x_AMo.*(x_AMo>0);                      % Parte positiva da onda AM\n",
    "x_env = zeros(size(x_AM));                    % Vetor de zeros vetor pra guardar o envelope\n",
    "nSamp = length(x_AM);                         % Número de amostras da onda AM\n",
    "for it = 1: length(vtTau)\n",
    "    tau = vtTau(it);\n",
    "    out = -1;                                 % Saída inicial (temporária)\n",
    "    % Cálculo da saida\n",
    "    for i=1:nSamp,\n",
    "        inp = x_AM(i);\n",
    "        if (inp>=out)                         % Caso 1: x_am(t) > Vc(t) (carga do capacitor)\n",
    "            out = inp;\n",
    "        else                                  % Caso 2: x_am(t) < Vc(t) (descarga do capacitor)\n",
    "            out = out*(1-Ts/tau);\n",
    "        end\n",
    "        x_env(i) = out;\n",
    "    end\n",
    "    % Cálculo do erro médio quadrático\n",
    "    Erro_MSE=(x_envIdeal-x_env).^2;\n",
    "    Erro_MSE=sum(Erro_MSE)/length(Erro_MSE);\n",
    "    disp(['Para tau = ' num2str(tau)]);\n",
    "    disp([' Erro médio quadrático = ' num2str(Erro_MSE)]);\n",
    "end"
   ]
  },
  {
   "cell_type": "markdown",
   "metadata": {},
   "source": [
    "### Questão:\n",
    "Considerando a **Prática 2: Ruído em comunicações digitais do Hands-On 08**, qual a potência do ruído para uma modulação 8-PSK e:\n",
    "- Prova do tipo 1: Eb/No = 15 dB?\n",
    "- Prova do tipo 2: Eb/No = 5 dB?\n",
    "- Prova do tipo 3: Eb/No = 20 dB?\n",
    "- Prova do tipo 4: Eb/No = 10 dB?"
   ]
  },
  {
   "cell_type": "code",
   "execution_count": 53,
   "metadata": {
    "scrolled": false
   },
   "outputs": [
    {
     "name": "stdout",
     "output_type": "stream",
     "text": [
      "Para EbNo = 15 dB\n",
      "  Pn 8-PSK = -27.0412 dB\n",
      "  Pn 8-PSK = 0.0019764 (linear)\n",
      "  Pn BPSK = -18.0103 dB\n",
      "  Pn BPSK = 0.015811 (linear)\n",
      "Para EbNo = 5 dB\n",
      "  Pn 8-PSK = -17.0412 dB\n",
      "  Pn 8-PSK = 0.019764 (linear)\n",
      "  Pn BPSK = -8.0103 dB\n",
      "  Pn BPSK = 0.15811 (linear)\n",
      "Para EbNo = 20 dB\n",
      "  Pn 8-PSK = -32.0412 dB\n",
      "  Pn 8-PSK = 0.000625 (linear)\n",
      "  Pn BPSK = -23.0103 dB\n",
      "  Pn BPSK = 0.005 (linear)\n",
      "Para EbNo = 10 dB\n",
      "  Pn 8-PSK = -22.0412 dB\n",
      "  Pn 8-PSK = 0.00625 (linear)\n",
      "  Pn BPSK = -13.0103 dB\n",
      "  Pn BPSK = 0.05 (linear)\n"
     ]
    }
   ],
   "source": [
    "clc;clear all;close all;\n",
    "%% Parâmetros\n",
    "vtEbN0dB = [15 5 20 10];                 % Eb/N0 em dB\n",
    "M = 8;                                   % M-PSK\n",
    "for ie = 1:length(vtEbN0dB)\n",
    "    EbN0 = 10^(vtEbN0dB(ie)/10);         % Eb/N0 Linear\n",
    "    % A potência do ruído é sua variância \n",
    "    Pn_8PSK = 1/(2*M*EbN0);          % Potência = Variância\n",
    "    Pn_8PSKdB = 10*log10(Pn_8PSK);   \n",
    "    % Para BPSK\n",
    "    PnBPSK = 1/(2*EbN0);          % Potência = Variância\n",
    "    PnBPSKdB = 10*log10(PnBPSK);   \n",
    "    disp(['Para EbNo = ' num2str(vtEbN0dB(ie)) ' dB']);\n",
    "    disp(['  Pn 8-PSK = ' num2str(Pn_8PSKdB) ' dB']);\n",
    "    disp(['  Pn 8-PSK = ' num2str(Pn_8PSK) ' (linear)']);\n",
    "    disp(['  Pn BPSK = ' num2str(PnBPSKdB) ' dB']);\n",
    "    disp(['  Pn BPSK = ' num2str(PnBPSK) ' (linear)']);\n",
    "    \n",
    "end"
   ]
  },
  {
   "cell_type": "markdown",
   "metadata": {},
   "source": [
    "### Questão \n",
    "Considerando a **Prática 3: Quantização do Hands-On 06**, qual a SQNR para $L$ níveis de quantização, quando:\n",
    "- Prova do tipo 1: $L = 8$?\n",
    "- Prova do tipo 2: $L = 16$?\n",
    "- Prova do tipo 3: $L = 32$?\n",
    "- Prova do tipo 4: $L = 128$?"
   ]
  },
  {
   "cell_type": "code",
   "execution_count": 61,
   "metadata": {},
   "outputs": [
    {
     "name": "stdout",
     "output_type": "stream",
     "text": [
      "Para L = 8 níveis\n",
      " SQNR = 15.6587 dB\n",
      " SQNR = 36.8022 (linear)\n",
      "Para L = 16 níveis\n",
      " SQNR = 22.105 dB\n",
      " SQNR = 162.3685 (linear)\n",
      "Para L = 32 níveis\n",
      " SQNR = 28.6582 dB\n",
      " SQNR = 734.2118 (linear)\n",
      "Para L = 128 níveis\n",
      " SQNR = 40.9639 dB\n",
      " SQNR = 12485.0835 (linear)\n"
     ]
    }
   ],
   "source": [
    "clc;close all;clear all;\n",
    "vtL = [8 16 32 128]; \n",
    "T=0.002;                                                % Taxa de amostragem (500kHz)\n",
    "Tf=1;                                                   % Tempo final em segundos\n",
    "t=0:T:Tf-T;                                             % Definição do eixo do tempo      \n",
    "fm1=3;                                                  % Frequência senoide 1      \n",
    "fm2=1;                                                  % Frequência senoide 2\n",
    "m_t=sin(2*pi*fm2*t)-sin(2*pi*fm1*t);                    % Sinal mensagem m(t)\n",
    "ts=0.02;                                                % Nova taxa de amostragem\n",
    "N_samp=round(ts/T);                                     % Número de elementos\n",
    "% Quantização\n",
    "sig_max=max(m_t);                                       % Encontra pico máximo\n",
    "sig_min=min(m_t);                                       % Encontra pico mínimo\n",
    "%\n",
    "for il = 1:length(vtL)\n",
    "    L = vtL(il);\n",
    "    Delta=(sig_max-sig_min)/L;                              % Intervalo de quantização\n",
    "    q_level=sig_min+Delta/2:Delta:sig_max-Delta/2;          % Vetor com amplitudes dos Q níveis \n",
    "    sigp=m_t-sig_min;                                       % Shift para cima\n",
    "    sigp=sigp*(1/Delta);                                    % Calcula a quantidade de nívels\n",
    "    sigp=sigp+1/2;                                          % Tira elementos do zero \n",
    "    qindex=round(sigp);                                     % Encontra inteiro mais proximo para cada elemento\n",
    "    qindex=min(qindex,L);                                   % Remove o excedente de qindex \n",
    "    q_out=q_level(qindex);                                  % Calcula a amplitude quantizada de cada amostra\n",
    "    %\n",
    "    % Cálculo da SQNR m_t\n",
    "    N=length(m_t);                                          % Comprimento do vetor \n",
    "    Psignal=sum(m_t.^2);                                    % Potência do sinal\n",
    "    Pnoise=sum((m_t-q_out).^2);                             % Potência do ruído\n",
    "    SQNR=Psignal/Pnoise;                                    % SQNR linear \n",
    "    SQNR_dB=10*log10(SQNR);\n",
    "    % Ou alternativamente\n",
    "    % SQNR_dB2 = 20*log10(norm(m_t)/norm((m_t-q_out)))\n",
    "    disp(['Para L = ' num2str(L) ' níveis']);\n",
    "    disp([' SQNR = ' num2str(SQNR_dB) ' dB']);\n",
    "    disp([' SQNR = ' num2str(SQNR) ' (linear)']);\n",
    "    \n",
    "end"
   ]
  },
  {
   "cell_type": "markdown",
   "metadata": {},
   "source": [
    "Decisão sobre essa questão: como ficou confuso qual sinal era para ser utilizado, cancelarei a questão. Atribuindo potuação a todos."
   ]
  }
 ],
 "metadata": {
  "kernelspec": {
   "display_name": "Matlab",
   "language": "matlab",
   "name": "matlab"
  },
  "language_info": {
   "codemirror_mode": "octave",
   "file_extension": ".m",
   "help_links": [
    {
     "text": "MetaKernel Magics",
     "url": "https://github.com/calysto/metakernel/blob/master/metakernel/magics/README.md"
    }
   ],
   "mimetype": "text/x-matlab",
   "name": "matlab",
   "version": "0.14.3"
  }
 },
 "nbformat": 4,
 "nbformat_minor": 2
}
